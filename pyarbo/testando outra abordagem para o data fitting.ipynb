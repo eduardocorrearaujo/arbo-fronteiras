{
 "cells": [
  {
   "cell_type": "code",
   "execution_count": 1,
   "id": "bbdeb184",
   "metadata": {},
   "outputs": [],
   "source": [
    "import lmfit as lm\n",
    "import numpy as np\n",
    "import pandas as pd\n",
    "import matplotlib.pyplot as plt\n",
    "from lmfit import Parameters, Minimizer\n",
    "from get_data import get_weather_data, get_dengue_data, plot_data, get_temp\n",
    "from edo_model_yang import C0, A0, R_m\n",
    "from edo_model_yang import system_odes, solve_model, solve_fit, plot_fit\n",
    "from parameters import d, theta_m, mu_a, mu_m, gamma_m, C_yang, sup_cap_sin, sup_cap_yang"
   ]
  },
  {
   "cell_type": "code",
   "execution_count": 2,
   "id": "50f4cd57",
   "metadata": {},
   "outputs": [],
   "source": [
    "# parâmetros que serão fixados: \n",
    "# parâmetros fixos \n",
    "MU_H = 1/(365*67)    #human mortality rate - day^-1\n",
    "ALPHA_H = 0.1 #recovering rate - day^-1\n",
    "THETA_H = 0.027   #intrinsic incubation rate - day^-1\n",
    "K = 0.5          #fraction of female mosquitoes hatched from all egs\n",
    "C_A = 0.0      #control effort rate on aquatic phase\n",
    "C_M = 0.0    #control effort rate on terretrial phase\n",
    "\n",
    "# população de Foz (censo 2010)\n",
    "N = 256088\n",
    "\n",
    "par_fixed = MU_H, THETA_H, ALPHA_H, K, C_A, C_M"
   ]
  },
  {
   "cell_type": "code",
   "execution_count": 3,
   "id": "eaae9979",
   "metadata": {
    "scrolled": true
   },
   "outputs": [
    {
     "data": {
      "text/html": [
       "<div>\n",
       "<style scoped>\n",
       "    .dataframe tbody tr th:only-of-type {\n",
       "        vertical-align: middle;\n",
       "    }\n",
       "\n",
       "    .dataframe tbody tr th {\n",
       "        vertical-align: top;\n",
       "    }\n",
       "\n",
       "    .dataframe thead th {\n",
       "        text-align: right;\n",
       "    }\n",
       "</style>\n",
       "<table border=\"1\" class=\"dataframe\">\n",
       "  <thead>\n",
       "    <tr style=\"text-align: right;\">\n",
       "      <th></th>\n",
       "      <th>notified</th>\n",
       "      <th>probable</th>\n",
       "      <th>lab_confirmed</th>\n",
       "      <th>acum_notified</th>\n",
       "    </tr>\n",
       "    <tr>\n",
       "      <th>date</th>\n",
       "      <th></th>\n",
       "      <th></th>\n",
       "      <th></th>\n",
       "      <th></th>\n",
       "    </tr>\n",
       "  </thead>\n",
       "  <tbody>\n",
       "    <tr>\n",
       "      <th>2010-01-07</th>\n",
       "      <td>1.571429</td>\n",
       "      <td>0.857143</td>\n",
       "      <td>0.285714</td>\n",
       "      <td>1.571429</td>\n",
       "    </tr>\n",
       "    <tr>\n",
       "      <th>2010-01-08</th>\n",
       "      <td>1.857143</td>\n",
       "      <td>1.000000</td>\n",
       "      <td>0.142857</td>\n",
       "      <td>3.428571</td>\n",
       "    </tr>\n",
       "    <tr>\n",
       "      <th>2010-01-09</th>\n",
       "      <td>1.857143</td>\n",
       "      <td>1.000000</td>\n",
       "      <td>0.142857</td>\n",
       "      <td>5.285714</td>\n",
       "    </tr>\n",
       "    <tr>\n",
       "      <th>2010-01-10</th>\n",
       "      <td>2.000000</td>\n",
       "      <td>1.142857</td>\n",
       "      <td>0.142857</td>\n",
       "      <td>7.285714</td>\n",
       "    </tr>\n",
       "    <tr>\n",
       "      <th>2010-01-11</th>\n",
       "      <td>1.714286</td>\n",
       "      <td>0.857143</td>\n",
       "      <td>0.142857</td>\n",
       "      <td>9.000000</td>\n",
       "    </tr>\n",
       "  </tbody>\n",
       "</table>\n",
       "</div>"
      ],
      "text/plain": [
       "            notified  probable  lab_confirmed  acum_notified\n",
       "date                                                        \n",
       "2010-01-07  1.571429  0.857143       0.285714       1.571429\n",
       "2010-01-08  1.857143  1.000000       0.142857       3.428571\n",
       "2010-01-09  1.857143  1.000000       0.142857       5.285714\n",
       "2010-01-10  2.000000  1.142857       0.142857       7.285714\n",
       "2010-01-11  1.714286  0.857143       0.142857       9.000000"
      ]
     },
     "execution_count": 3,
     "metadata": {},
     "output_type": "execute_result"
    }
   ],
   "source": [
    "df = get_dengue_data()\n",
    "df.head()"
   ]
  },
  {
   "cell_type": "markdown",
   "id": "5f6ade96",
   "metadata": {},
   "source": [
    "Definindo as condições iniciais"
   ]
  },
  {
   "cell_type": "code",
   "execution_count": 4,
   "id": "d733dd22",
   "metadata": {},
   "outputs": [
    {
     "name": "stdout",
     "output_type": "stream",
     "text": [
      "A0: 64854.28600000001\n",
      "C0: 65600.71992125978\n"
     ]
    }
   ],
   "source": [
    "Ms_0 = N\n",
    "\n",
    "# para T = 28\n",
    "k = 0.5\n",
    "delta__ = 8.39\n",
    "gamma_m__ = 0.12\n",
    "mu_a__ = 0.06848\n",
    "mu_m__ = 0.03039\n",
    "c_m__ = 0.0\n",
    "\n",
    "A_0 = A0(Ms_0, gamma_m__, mu_m__, c_m__)\n",
    "\n",
    "C_0 = C0(Ms_0,k,delta__,gamma_m__, mu_m__,mu_a__, c_m = 0, c_a = 0)\n",
    "\n",
    "Hi0 = 15\n",
    "Mi0 = 0\n",
    "\n",
    "print(\"A0:\", A_0)\n",
    "print(\"C0:\", C_0)"
   ]
  },
  {
   "cell_type": "code",
   "execution_count": 5,
   "id": "42a04626",
   "metadata": {},
   "outputs": [],
   "source": [
    "df_2010 = df.loc[(df.index >= '2010-01-08')  &  (df.index <= '2010-07-30')]\n",
    "\n",
    "data = df_2010.acum_notified\n",
    "\n",
    "T = get_temp(start_date = '2010-01-08', end_date = '2010-07-30')\n",
    "\n",
    "df_we = get_weather_data()\n",
    "\n",
    "df_we = df_we.loc[(df_we.index >= '2010-01-01') & (df_we.index <= '2010-07-30')]\n",
    "\n",
    "dias = np.arange(0, len(data), 1)"
   ]
  },
  {
   "cell_type": "code",
   "execution_count": 6,
   "id": "43b9fdb8",
   "metadata": {},
   "outputs": [],
   "source": [
    "def model_var_onto_cap(t, b_value, beta_value, T, df_we, A0, Mi0, Hi0): \n",
    "\n",
    "    MU_H = 1/(365*67)    #human mortality rate - day^-1\n",
    "    ALPHA_H = 0.1 #recovering rate - day^-1\n",
    "    THETA_H = 0.027   #intrinsic incubation rate - day^-1\n",
    "    K = 0.5          #fraction of female mosquitoes hatched from all egs\n",
    "    C_A = 0.0      #control effort rate on aquatic phase\n",
    "    C_M = 0.0    #control effort rate on terretrial phase\n",
    "\n",
    "    # população de Foz (censo 2010)\n",
    "    N = 256088\n",
    "\n",
    "    par_fixed = MU_H, THETA_H, ALPHA_H, K, C_A, C_M\n",
    "\n",
    "    # Aqui serão definidos os parâmetros que serão fitados \n",
    "    \n",
    "    \n",
    "    b = lambda t:  b_value\n",
    "    \n",
    "    beta = lambda t: beta_value\n",
    "  \n",
    "    parametros = b, beta\n",
    "    \n",
    "    d_ = d(T)\n",
    "    \n",
    "    gamma_m_ = gamma_m(T)\n",
    "    \n",
    "    mu_a_ = mu_a(T)\n",
    "\n",
    "    mu_m_ = mu_m(T)\n",
    "    \n",
    "    theta_m_ = theta_m(T)\n",
    "    \n",
    "    C_ = C_yang(df_we, k=7,w1=0.5, C0 = 5, C1=30,C2 = 0.1)\n",
    "    \n",
    "    param_ento = d_, gamma_m_, mu_a_, mu_m_, theta_m_, C_\n",
    "    \n",
    "    phi = 1\n",
    "    \n",
    "    # definição das condições iniciais\n",
    "    Ms0 = N\n",
    "    \n",
    "    Me0 = 0\n",
    "    \n",
    "    Hs0 = phi*N\n",
    "    \n",
    "    He0 = 0\n",
    "    \n",
    "    Hr0 = (1-phi)*N\n",
    "    \n",
    "    y0 = [A0, Ms0, Me0, Mi0, Hs0, He0, Hi0, Hr0]\n",
    "\n",
    "    # Aqui é solucionado o sistema \n",
    "    \n",
    "    r = solve_model(t, y0, parametros, param_ento, par_fixed)\n",
    "\n",
    "    Hi = r.y[6]\n",
    "    Hr = r.y[7] - Hr0\n",
    "\n",
    "    model = Hi + Hr \n",
    "\n",
    "    return model"
   ]
  },
  {
   "cell_type": "code",
   "execution_count": 7,
   "id": "13113d88",
   "metadata": {},
   "outputs": [],
   "source": [
    "from lmfit import Model\n",
    "\n",
    "d_model = Model(model_var_onto_cap, independent_vars = ['t', 'T', 'df_we', 'A0', 'Mi0', 'Hi0'])"
   ]
  },
  {
   "cell_type": "code",
   "execution_count": 8,
   "id": "a8f4956e",
   "metadata": {},
   "outputs": [
    {
     "data": {
      "text/plain": [
       "['b_value', 'beta_value']"
      ]
     },
     "execution_count": 8,
     "metadata": {},
     "output_type": "execute_result"
    }
   ],
   "source": [
    "d_model.param_names"
   ]
  },
  {
   "cell_type": "code",
   "execution_count": 9,
   "id": "3d470011",
   "metadata": {
    "scrolled": true
   },
   "outputs": [],
   "source": [
    "\n",
    "# definição dos parâmetros que serão fitados e os seus intervalos \n",
    "params = Parameters()\n",
    "\n",
    "#params.add('phi', value = 0.4, min = 0.1, max = 1, vary = True) # porcentangem de indivíduos susceptíveis\n",
    "params.add('b_value', value = 0.5, min = 0.3, max = 0.9, vary = True)\n",
    "params.add('beta_value',value = 0.7,  min = 0.3, max = 0.9, vary = True)\n",
    "#params.add('C0', value = 5, min = 4, max = 8, vary = True)\n",
    "#params.add('C2', value = 0.1, min = 0.09, max = 0.5, vary = True)"
   ]
  },
  {
   "cell_type": "code",
   "execution_count": 10,
   "id": "6e0e6fc9",
   "metadata": {},
   "outputs": [
    {
     "data": {
      "image/png": "[encoded data removed]",
      "text/plain": [
       "<Figure size 640x480 with 1 Axes>"
      ]
     },
     "metadata": {},
     "output_type": "display_data"
    },
    {
     "name": "stdout",
     "output_type": "stream",
     "text": [
      "CPU times: user 2.78 s, sys: 11.4 ms, total: 2.79 s\n",
      "Wall time: 2.79 s\n"
     ]
    }
   ],
   "source": [
    "%%time\n",
    "y_eval = d_model.eval(t = dias, beta_value = 0.7, b_value = 0.5, T = T, df_we = df_we, A0 = A_0, Mi0 = 0, Hi0 = 15)\n",
    "\n",
    "plt.figure()\n",
    "\n",
    "plt.plot(y_eval)\n",
    "\n",
    "plt.title('Curva de infectados (b = 0.5 e beta = 0.7)')\n",
    "\n",
    "plt.grid()\n",
    "\n",
    "plt.show()"
   ]
  },
  {
   "cell_type": "code",
   "execution_count": 11,
   "id": "1a480b39",
   "metadata": {},
   "outputs": [
    {
     "name": "stdout",
     "output_type": "stream",
     "text": [
      "CPU times: user 1min 8s, sys: 129 ms, total: 1min 8s\n",
      "Wall time: 1min 8s\n"
     ]
    },
    {
     "data": {
      "text/plain": [
       "'[[Model]]\\n    Model(model_var_onto_cap)\\n[[Fit Statistics]]\\n    # fitting method   = leastsq\\n    # function evals   = 20\\n    # data points      = 204\\n    # variables        = 2\\n    chi-square         = 3.5945e+09\\n    reduced chi-square = 17794313.9\\n    Akaike info crit   = 3407.64559\\n    Bayesian info crit = 3414.28183\\n    R-squared          = -0.39207149\\n[[Variables]]\\n    b_value:     0.49999998 +/- 2.9488e-05 (0.01%) (init = 0.5)\\n    beta_value:  0.70000000 +/- 1.0767e-05 (0.00%) (init = 0.7)\\n[[Correlations]] (unreported correlations are < 0.100)\\n    C(b_value, beta_value) = -0.992'"
      ]
     },
     "execution_count": 11,
     "metadata": {},
     "output_type": "execute_result"
    }
   ],
   "source": [
    "%%time\n",
    "result = d_model.fit(data, params, t = dias, T = T, df_we = df_we, A0 = A_0, Mi0 = 0, Hi0 = 15)\n",
    "\n",
    "result.fit_report()"
   ]
  },
  {
   "cell_type": "code",
   "execution_count": 12,
   "id": "b49ef5de",
   "metadata": {},
   "outputs": [
    {
     "data": {
      "text/html": [
       "<h2> Model</h2> Model(model_var_onto_cap) <h2>Fit Statistics</h2><table><tr><td>fitting method</td><td>leastsq</td><td></td></tr><tr><td># function evals</td><td>20</td><td></td></tr><tr><td># data points</td><td>204</td><td></td></tr><tr><td># variables</td><td>2</td><td></td></tr><tr><td>chi-square</td><td> 3.5945e+09</td><td></td></tr><tr><td>reduced chi-square</td><td> 17794313.9</td><td></td></tr><tr><td>Akaike info crit.</td><td> 3407.64559</td><td></td></tr><tr><td>Bayesian info crit.</td><td> 3414.28183</td><td></td></tr><tr><td>R-squared</td><td>-0.39207149</td><td></td></tr></table><h2>Variables</h2><table><tr><th> name </th><th> value </th><th> standard error </th><th> relative error </th><th> initial value </th><th> min </th><th> max </th><th> vary </th></tr><tr><td> b_value </td><td>  0.49999998 </td><td>  2.9488e-05 </td><td> (0.01%) </td><td> 0.5 </td><td>  0.30000000 </td><td>  0.90000000 </td><td> True </td></tr><tr><td> beta_value </td><td>  0.70000000 </td><td>  1.0767e-05 </td><td> (0.00%) </td><td> 0.7 </td><td>  0.30000000 </td><td>  0.90000000 </td><td> True </td></tr></table><h2>Correlations (unreported correlations are < 0.100)</h2><table><tr><td>b_value</td><td>beta_value</td><td>-0.9918</td></tr></table>"
      ],
      "text/plain": [
       "<lmfit.model.ModelResult at 0x1330d7e10>"
      ]
     },
     "execution_count": 12,
     "metadata": {},
     "output_type": "execute_result"
    }
   ],
   "source": [
    "result"
   ]
  },
  {
   "cell_type": "code",
   "execution_count": 13,
   "id": "42aaf692",
   "metadata": {},
   "outputs": [
    {
     "data": {
      "image/png": "[encoded data removed]",
      "text/plain": [
       "<Figure size 640x480 with 1 Axes>"
      ]
     },
     "metadata": {},
     "output_type": "display_data"
    }
   ],
   "source": [
    "plt.plot(dias, data, 'o')\n",
    "plt.plot(dias, result.init_fit, '--', label='initial fit')\n",
    "plt.plot(dias, result.best_fit, '-', label='best fit')\n",
    "plt.legend()\n",
    "plt.show()\n"
   ]
  },
  {
   "cell_type": "markdown",
   "id": "701592c7",
   "metadata": {},
   "source": [
    "Using the ModelResult class"
   ]
  },
  {
   "cell_type": "code",
   "execution_count": 19,
   "id": "489a213a",
   "metadata": {},
   "outputs": [],
   "source": [
    "from lmfit import Minimizer"
   ]
  },
  {
   "cell_type": "code",
   "execution_count": 21,
   "id": "5afb5d24",
   "metadata": {},
   "outputs": [
    {
     "ename": "AttributeError",
     "evalue": "type object 'Minimizer' has no attribute 'ModelFit'",
     "output_type": "error",
     "traceback": [
      "\u001b[0;31m---------------------------------------------------------------------------\u001b[0m",
      "\u001b[0;31mAttributeError\u001b[0m                            Traceback (most recent call last)",
      "Cell \u001b[0;32mIn[21], line 1\u001b[0m\n\u001b[0;32m----> 1\u001b[0m \u001b[43mMinimizer\u001b[49m\u001b[38;5;241;43m.\u001b[39;49m\u001b[43mModelFit\u001b[49m\n",
      "\u001b[0;31mAttributeError\u001b[0m: type object 'Minimizer' has no attribute 'ModelFit'"
     ]
    }
   ],
   "source": [
    "Minimizer.ModelFit"
   ]
  },
  {
   "cell_type": "code",
   "execution_count": null,
   "id": "cde77519",
   "metadata": {},
   "outputs": [],
   "source": []
  }
 ],
 "metadata": {
  "kernelspec": {
   "display_name": "Python 3 (ipykernel)",
   "language": "python",
   "name": "python3"
  },
  "language_info": {
   "codemirror_mode": {
    "name": "ipython",
    "version": 3
   },
   "file_extension": ".py",
   "mimetype": "text/x-python",
   "name": "python",
   "nbconvert_exporter": "python",
   "pygments_lexer": "ipython3",
   "version": "3.11.0"
  }
 },
 "nbformat": 4,
 "nbformat_minor": 5
}
