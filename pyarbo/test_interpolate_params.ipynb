{
 "cells": [
  {
   "cell_type": "code",
   "execution_count": 1,
   "id": "e084084a",
   "metadata": {},
   "outputs": [],
   "source": [
    "import numpy as np\n",
    "import matplotlib.pyplot as plt\n",
    "from scipy import interpolate\n",
    "x = np.arange(0, 10)\n",
    "y = np.exp(-x/3.0)\n",
    "f = interpolate.interp1d(x, y)"
   ]
  },
  {
   "cell_type": "code",
   "execution_count": 5,
   "id": "e80ee718",
   "metadata": {},
   "outputs": [
    {
     "data": {
      "text/plain": [
       "array([0, 1, 2, 3, 4, 5, 6, 7, 8, 9])"
      ]
     },
     "execution_count": 5,
     "metadata": {},
     "output_type": "execute_result"
    }
   ],
   "source": [
    "x"
   ]
  },
  {
   "cell_type": "code",
   "execution_count": 4,
   "id": "b761f732",
   "metadata": {
    "scrolled": true
   },
   "outputs": [
    {
     "data": {
      "text/plain": [
       "array([1.        , 0.71653131, 0.51341712, 0.36787944, 0.26359714,\n",
       "       0.1888756 , 0.13533528, 0.09697197, 0.06948345, 0.04978707])"
      ]
     },
     "execution_count": 4,
     "metadata": {},
     "output_type": "execute_result"
    }
   ],
   "source": [
    "y"
   ]
  },
  {
   "cell_type": "code",
   "execution_count": 7,
   "id": "f5ca65e1",
   "metadata": {},
   "outputs": [
    {
     "data": {
      "text/plain": [
       "array(0.85826566)"
      ]
     },
     "execution_count": 7,
     "metadata": {},
     "output_type": "execute_result"
    }
   ],
   "source": [
    "f(0.5)"
   ]
  },
  {
   "cell_type": "code",
   "execution_count": 11,
   "id": "91076c9d",
   "metadata": {},
   "outputs": [
    {
     "data": {
      "text/plain": [
       "scipy.interpolate._interpolate.interp1d"
      ]
     },
     "execution_count": 11,
     "metadata": {},
     "output_type": "execute_result"
    }
   ],
   "source": [
    "type(f)"
   ]
  },
  {
   "cell_type": "code",
   "execution_count": 3,
   "id": "c3d527ca",
   "metadata": {},
   "outputs": [
    {
     "data": {
      "image/png": "[encoded data removed]",
      "text/plain": [
       "<Figure size 640x480 with 1 Axes>"
      ]
     },
     "metadata": {},
     "output_type": "display_data"
    }
   ],
   "source": [
    "xnew = np.arange(0, 9, 0.1)\n",
    "ynew = f(xnew)   # use interpolation function returned by `interp1d`\n",
    "plt.plot(x, y, 'o', xnew, ynew, '-')\n",
    "plt.show()"
   ]
  },
  {
   "cell_type": "markdown",
   "id": "f0785493",
   "metadata": {},
   "source": [
    "Mudando o código: \n",
    "    "
   ]
  },
  {
   "cell_type": "code",
   "execution_count": 13,
   "id": "ea660db2",
   "metadata": {},
   "outputs": [],
   "source": [
    "import numbers\n",
    "import numpy as np \n",
    "import pandas as pd \n",
    "import matplotlib.pyplot as plt \n",
    "from scipy.integrate import solve_ivp\n",
    "from get_data import get_weather_data \n",
    "from parameters import dict_d, dict_mu_a, dict_mu_m, dict_gamma_m, dict_theta_m\n",
    "from edo_model_yang import get_temp"
   ]
  },
  {
   "cell_type": "code",
   "execution_count": 14,
   "id": "77152fd9",
   "metadata": {},
   "outputs": [],
   "source": [
    "def system_odes(t,x, param_fit, param_fixed, temp, cap, fixed = True):\n",
    "    '''\n",
    "    Função que implementa o sistema de equações. \n",
    "    :params param_fit: tuple. parâmetros que serão fitados. \n",
    "    :params param_fixed: tuple. parâmetros que serão fixados. \n",
    "    :params temp: array. Array com os valores de temperatura. O tamanho desse array deve ser \n",
    "                        condizente com o intervalo de tempo que o modelo será integrado. \n",
    "    :params cap: float or array. Parametro que irá determinar a cap suporte do modelo. \n",
    "    :params fixed: boolean. Se True serão usados os parâmetros ontomológicos fixos. \n",
    "    '''\n",
    "\n",
    "    #definindo parâmetros que vão ser fitados\n",
    "    b, beta = param_fit \n",
    "\n",
    "    beta_m = beta\n",
    "    beta_h = beta\n",
    "\n",
    "    MU_H, THETA_H, ALPHA_H, K, C_A, C_M, D = param_fixed\n",
    "\n",
    "    #Colocando cada variável em uma posição:\n",
    "    A  = x[0] #Aquatic mosquito population\n",
    "    Ms = x[1] #Susceptible mosquitos population\n",
    "    Me = x[2] #Exposed mosquitos population (infected but not infectious)\n",
    "    Mi = x[3] #Infectious mosquitos population\n",
    "    Hs = x[4] #Susceptible human population\n",
    "    He = x[5] #Exposed human population\n",
    "    Hi = x[6] #Infectious human population\n",
    "    Hr = x[7] #Recovered Individuals\n",
    "\n",
    "\n",
    "    #Definindo condições de contorno para as variáveis(?):\n",
    "    M = A+Ms+Me+Mi  #População total de Mosquitos\n",
    "    H = Hs+He+Hi+Hr #População total de humanos\n",
    "    \n",
    "    #Definindo cada ODE:\n",
    "    dA_dt  = K*d(t,temp, fixed)*(1-(A/C(t, D, cap)))*M - (gamma_m(t,temp, fixed) + mu_a(t,temp, fixed) + C_A)*A\n",
    "    dMs_dt = gamma_m(t,temp, fixed)*A - (b*beta_m*Ms*Hi)/H - (mu_m(t,temp, fixed) + C_M)*Ms\n",
    "    dMe_dt = (b*beta_m*Ms*Hi)/H - (theta_m(t,temp, fixed ) + mu_m(t,temp, fixed) + C_M)*Me\n",
    "    dMi_dt = theta_m(t,temp, fixed)*Me - (mu_m(t,temp, fixed) + C_M)*Mi\n",
    "    dHs_dt = MU_H*(H-Hs) - (b*beta_h*Hs*Mi)/H\n",
    "    dHe_dt = (b*beta_h*Hs*Mi)/H - (THETA_H + MU_H)*He\n",
    "    dHi_dt = THETA_H*He - (ALPHA_H + MU_H)*Hi\n",
    "    dHr_dt = ALPHA_H*Hi - MU_H*Hr\n",
    "\n",
    "    return [dA_dt, dMs_dt, dMe_dt, dMi_dt, dHs_dt, dHe_dt, dHi_dt, dHr_dt]"
   ]
  },
  {
   "cell_type": "code",
   "execution_count": 15,
   "id": "901fb45f",
   "metadata": {},
   "outputs": [
    {
     "data": {
      "text/plain": [
       "array([28. , 27.6, 26.1, 26.8, 25.1, 25. , 25.2, 23.7, 26.5, 26.6, 27. ,\n",
       "       27.2, 23.2, 23.7, 24.4, 26.1, 27. , 25.1, 25.4, 25.9, 24.2, 26.6,\n",
       "       27.9, 28. , 27.9, 29.4, 30.6, 29.2, 30.6, 28.5, 30. , 25.6, 24.1,\n",
       "       27.3, 27.5, 27.4, 25.5, 24.6, 24.4, 22.8, 25.4, 27.5, 28.5, 28.8,\n",
       "       27.9, 26.5, 28. , 23.5, 23.5, 24.8, 22.3, 24.5, 26.1, 25.7, 25.9,\n",
       "       26.4, 25.8, 24.4, 24. , 24.1, 25.7, 26.9, 25.5, 26.2, 25.4, 25.4,\n",
       "       24.9, 25.8, 26.8, 27.1, 27.8, 25. , 24.9, 23.3, 22.8, 22.4, 24.4,\n",
       "       25.1, 24.9, 24.9, 25.4, 25.2, 25.7, 26.7, 26. , 25.5, 23.4, 19. ,\n",
       "       19.1, 18.9, 19.5, 19.6, 20.2, 20.9, 21.6, 23.2, 23.4, 21.5, 22.7,\n",
       "       25.3, 26.5, 25.5, 26.4, 24.6, 23.5, 18.7, 17.8, 22.3, 20.2, 18.1,\n",
       "       19.5, 20. , 19.4, 19.6, 21.7, 22.1, 18.6, 18.8, 22. , 20.2, 16.3,\n",
       "       13.6, 14.2, 13. , 13. , 15.9, 19.2, 20.5, 18. , 19.1, 12.8, 13.7,\n",
       "       15.2, 16.7, 19.9, 21.4, 20.1, 17.1, 17.4, 18.5, 18.4, 20.3, 17.4,\n",
       "       13.5, 13. , 16.2, 17.8, 17.6, 14.4, 11.8, 13.2, 16.3, 16. , 17.4,\n",
       "       17.7, 18.2, 18. , 18.8, 20.8, 22.8, 22.5, 22.1, 24.2, 18.6, 13.6,\n",
       "       14.3, 17.5, 21.3, 22.7, 22.4, 21.9, 18.7, 17.8, 20.1, 21. ])"
      ]
     },
     "execution_count": 15,
     "metadata": {},
     "output_type": "execute_result"
    }
   ],
   "source": [
    "T1 = get_temp(start_date = '2010-01-08', end_date = '2010-07-01')\n",
    "\n",
    "T1"
   ]
  },
  {
   "cell_type": "code",
   "execution_count": 33,
   "id": "ac14cdd8",
   "metadata": {},
   "outputs": [],
   "source": [
    "def interpolate_params(temp, dict_values): \n",
    "\n",
    "    '''\n",
    "    Função que retorna uma função que relacionado cada instante de tempo t com um \n",
    "    valor salvo em dict_values. \n",
    "    \n",
    "    A partir dos valores de temperatura em temp encontramos os respectivos valores\n",
    "    do parâmetro e a partir deles usamos o método  interpolate.interp1d() para encontrar\n",
    "    o valor do parâmetro para cada instante t. Fazemos isso para evitar descontinuidades\n",
    "    na integração do modelo. \n",
    "    \n",
    "    :params temp: array. Array com as temperaturas para os respectivos dias.\n",
    "    :params dict_values: dictionary. As \"chaves\" são os valores de temperatura e os \"valores\" é o valor do \n",
    "    parâmetro associado com esssa temperatura. \n",
    "    \n",
    "    :returns: scipy.interpolate._interpolate.interp1d. \n",
    "    ''' \n",
    "    \n",
    "    values = np.array([dict_gamma_m[T] for T in temp])\n",
    "    \n",
    "    dias = np.arange(0, len(temp))\n",
    "  \n",
    "    f = interpolate.interp1d(dias, values)\n",
    "\n",
    "    return f"
   ]
  },
  {
   "cell_type": "code",
   "execution_count": 35,
   "id": "b135d552",
   "metadata": {},
   "outputs": [
    {
     "data": {
      "text/plain": [
       "array(0.12013992)"
      ]
     },
     "execution_count": 35,
     "metadata": {},
     "output_type": "execute_result"
    }
   ],
   "source": [
    "f = gamma_m(T1)\n",
    "\n",
    "f(0)"
   ]
  },
  {
   "cell_type": "code",
   "execution_count": 37,
   "id": "6241ae2e",
   "metadata": {},
   "outputs": [
    {
     "data": {
      "text/plain": [
       "scipy.interpolate._interpolate.interp1d"
      ]
     },
     "execution_count": 37,
     "metadata": {},
     "output_type": "execute_result"
    }
   ],
   "source": [
    "type(f)"
   ]
  },
  {
   "cell_type": "code",
   "execution_count": 36,
   "id": "244bc551",
   "metadata": {},
   "outputs": [
    {
     "data": {
      "text/plain": [
       "array(0.11786785)"
      ]
     },
     "execution_count": 36,
     "metadata": {},
     "output_type": "execute_result"
    }
   ],
   "source": [
    "f(0.5)"
   ]
  },
  {
   "cell_type": "code",
   "execution_count": 27,
   "id": "92d66b59",
   "metadata": {},
   "outputs": [
    {
     "name": "stdout",
     "output_type": "stream",
     "text": [
      "175\n",
      "175\n"
     ]
    }
   ],
   "source": [
    "print(len(gamma_m(T1)))\n",
    "print(len(gamma_m_2(T1)))"
   ]
  },
  {
   "cell_type": "code",
   "execution_count": 31,
   "id": "c17c883a",
   "metadata": {},
   "outputs": [
    {
     "name": "stdout",
     "output_type": "stream",
     "text": [
      "CPU times: user 120 µs, sys: 1 µs, total: 121 µs\n",
      "Wall time: 129 µs\n"
     ]
    }
   ],
   "source": [
    "%%time\n",
    "s = gamma_m(T1)"
   ]
  },
  {
   "cell_type": "code",
   "execution_count": 32,
   "id": "18b3b5e1",
   "metadata": {},
   "outputs": [
    {
     "name": "stdout",
     "output_type": "stream",
     "text": [
      "CPU times: user 73 µs, sys: 1e+03 ns, total: 74 µs\n",
      "Wall time: 78.9 µs\n"
     ]
    }
   ],
   "source": [
    "%%time \n",
    "s = gamma_m_2(T1)"
   ]
  },
  {
   "cell_type": "code",
   "execution_count": 29,
   "id": "b581378d",
   "metadata": {},
   "outputs": [
    {
     "data": {
      "text/plain": [
       "array([0., 0., 0., 0., 0., 0., 0., 0., 0., 0., 0., 0., 0., 0., 0., 0., 0.,\n",
       "       0., 0., 0., 0., 0., 0., 0., 0., 0., 0., 0., 0., 0., 0., 0., 0., 0.,\n",
       "       0., 0., 0., 0., 0., 0., 0., 0., 0., 0., 0., 0., 0., 0., 0., 0., 0.,\n",
       "       0., 0., 0., 0., 0., 0., 0., 0., 0., 0., 0., 0., 0., 0., 0., 0., 0.,\n",
       "       0., 0., 0., 0., 0., 0., 0., 0., 0., 0., 0., 0., 0., 0., 0., 0., 0.,\n",
       "       0., 0., 0., 0., 0., 0., 0., 0., 0., 0., 0., 0., 0., 0., 0., 0., 0.,\n",
       "       0., 0., 0., 0., 0., 0., 0., 0., 0., 0., 0., 0., 0., 0., 0., 0., 0.,\n",
       "       0., 0., 0., 0., 0., 0., 0., 0., 0., 0., 0., 0., 0., 0., 0., 0., 0.,\n",
       "       0., 0., 0., 0., 0., 0., 0., 0., 0., 0., 0., 0., 0., 0., 0., 0., 0.,\n",
       "       0., 0., 0., 0., 0., 0., 0., 0., 0., 0., 0., 0., 0., 0., 0., 0., 0.,\n",
       "       0., 0., 0., 0., 0.])"
      ]
     },
     "execution_count": 29,
     "metadata": {},
     "output_type": "execute_result"
    }
   ],
   "source": [
    "np.array(gamma_m(T1)) - np.array(gamma_m_2(T1))"
   ]
  },
  {
   "cell_type": "code",
   "execution_count": 23,
   "id": "ba97d100",
   "metadata": {},
   "outputs": [
    {
     "ename": "TypeError",
     "evalue": "unhashable type: 'list'",
     "output_type": "error",
     "traceback": [
      "\u001b[0;31m---------------------------------------------------------------------------\u001b[0m",
      "\u001b[0;31mTypeError\u001b[0m                                 Traceback (most recent call last)",
      "Cell \u001b[0;32mIn[23], line 1\u001b[0m\n\u001b[0;32m----> 1\u001b[0m \u001b[43mdict_gamma_m\u001b[49m\u001b[43m[\u001b[49m\u001b[38;5;28;43mlist\u001b[39;49m\u001b[43m(\u001b[49m\u001b[43mT1\u001b[49m\u001b[43m)\u001b[49m\u001b[43m]\u001b[49m\n",
      "\u001b[0;31mTypeError\u001b[0m: unhashable type: 'list'"
     ]
    }
   ],
   "source": [
    "dict_gamma_m[list(T1)]"
   ]
  },
  {
   "cell_type": "code",
   "execution_count": 18,
   "id": "1b706f87",
   "metadata": {},
   "outputs": [
    {
     "data": {
      "text/plain": [
       "[0.1201399243664154,\n",
       " 0.1155957691884923,\n",
       " 0.1000717121753842,\n",
       " 0.1069736843649318,\n",
       " 0.0914424348292461,\n",
       " 0.0906642051372665,\n",
       " 0.0922363110799109,\n",
       " 0.081959911562838,\n",
       " 0.1039349916145129,\n",
       " 0.1049349167551012,\n",
       " 0.1090621614098852,\n",
       " 0.1111974822907102,\n",
       " 0.0792783453912369,\n",
       " 0.081959911562838,\n",
       " 0.0863237774656591,\n",
       " 0.1000717121753842,\n",
       " 0.1090621614098852,\n",
       " 0.0914424348292461,\n",
       " 0.0938707986356233,\n",
       " 0.0982253824563654,\n",
       " 0.0850013744787352,\n",
       " 0.1049349167551012,\n",
       " 0.1189919469366858,\n",
       " 0.1201399243664154,\n",
       " 0.1189919469366858,\n",
       " 0.1366730640743201,\n",
       " 0.15050844722749,\n",
       " 0.1342930418886014,\n",
       " 0.15050844722749,\n",
       " 0.125974268029835,\n",
       " 0.1437280299650689,\n",
       " 0.0955670805642912,\n",
       " 0.0843631286148438,\n",
       " 0.1122817357962011,\n",
       " 0.1144813264434079,\n",
       " 0.1133764966132586,\n",
       " 0.0947112631306454,\n",
       " 0.0877080630772484,\n",
       " 0.0863237774656591,\n",
       " 0.0773710972206433,\n",
       " 0.0938707986356233,\n",
       " 0.1144813264434079,\n",
       " 0.125974268029835,\n",
       " 0.1295285732039799,\n",
       " 0.1189919469366858,\n",
       " 0.1039349916145129,\n",
       " 0.1201399243664154,\n",
       " 0.0808456395128898,\n",
       " 0.0808456395128898,\n",
       " 0.0891547832529324,\n",
       " 0.0752492642635216,\n",
       " 0.087008143772274,\n",
       " 0.1000717121753842,\n",
       " 0.0964381330323371,\n",
       " 0.0982253824563654,\n",
       " 0.1029484393847512,\n",
       " 0.0973242848308872,\n",
       " 0.0863237774656591,\n",
       " 0.0837400173821381,\n",
       " 0.0843631286148438,\n",
       " 0.0964381330323371,\n",
       " 0.1080118816330921,\n",
       " 0.0947112631306454,\n",
       " 0.1010165482633604,\n",
       " 0.0938707986356233,\n",
       " 0.0938707986356233,\n",
       " 0.0899016509097867,\n",
       " 0.0973242848308872,\n",
       " 0.1069736843649318,\n",
       " 0.1101241565955701,\n",
       " 0.1178515800324868,\n",
       " 0.0906642051372665,\n",
       " 0.0899016509097867,\n",
       " 0.0797872420233494,\n",
       " 0.0773710972206433,\n",
       " 0.0756524222273942,\n",
       " 0.0863237774656591,\n",
       " 0.0914424348292461,\n",
       " 0.0899016509097867,\n",
       " 0.0899016509097867,\n",
       " 0.0938707986356233,\n",
       " 0.0922363110799109,\n",
       " 0.0964381330323371,\n",
       " 0.1059479189054757,\n",
       " 0.0991412546055139,\n",
       " 0.0947112631306454,\n",
       " 0.0803095821676498,\n",
       " 0.063767381008482,\n",
       " 0.0641945300485042,\n",
       " 0.063325068366109,\n",
       " 0.0657720046904293,\n",
       " 0.0661385658504984,\n",
       " 0.0681768204198691,\n",
       " 0.0703885428457962,\n",
       " 0.0726719953456518,\n",
       " 0.0792783453912369,\n",
       " 0.0803095821676498,\n",
       " 0.0723325161501113,\n",
       " 0.0769246898292594,\n",
       " 0.0930457871837591,\n",
       " 0.1039349916145129,\n",
       " 0.0947112631306454,\n",
       " 0.1029484393847512,\n",
       " 0.0877080630772484,\n",
       " 0.0808456395128898,\n",
       " 0.0623907069757878,\n",
       " 0.0571438386063496,\n",
       " 0.0752492642635216,\n",
       " 0.0681768204198691,\n",
       " 0.0591101146444419,\n",
       " 0.0657720046904293,\n",
       " 0.0675220827878808,\n",
       " 0.06539529730634,\n",
       " 0.0661385658504984,\n",
       " 0.0730175419933472,\n",
       " 0.074471661777026,\n",
       " 0.0618964910793824,\n",
       " 0.0628665352466741,\n",
       " 0.0740962604842332,\n",
       " 0.0681768204198691,\n",
       " 0.042675745230527,\n",
       " 0.014642,\n",
       " 0.014642,\n",
       " 0.014642,\n",
       " 0.014642,\n",
       " 0.0371224389276747,\n",
       " 0.0646075545612037,\n",
       " 0.0691319249587421,\n",
       " 0.0584816342573217,\n",
       " 0.0641945300485042,\n",
       " 0.014642,\n",
       " 0.014642,\n",
       " 0.025176668643994,\n",
       " 0.0474295450211315,\n",
       " 0.0671867837544475,\n",
       " 0.0719985103237101,\n",
       " 0.0678518079836161,\n",
       " 0.0514793881801809,\n",
       " 0.0541097084062203,\n",
       " 0.0613827772837041,\n",
       " 0.0608484375153244,\n",
       " 0.0684979633751838,\n",
       " 0.0541097084062203,\n",
       " 0.014642,\n",
       " 0.014642,\n",
       " 0.0413662049307559,\n",
       " 0.0571438386063496,\n",
       " 0.0556899416445633,\n",
       " 0.014642,\n",
       " 0.014642,\n",
       " 0.014642,\n",
       " 0.042675745230527,\n",
       " 0.0385911159449383,\n",
       " 0.0541097084062203,\n",
       " 0.0564320357997889,\n",
       " 0.0597132787683278,\n",
       " 0.0584816342573217,\n",
       " 0.0628665352466741,\n",
       " 0.0700739047088996,\n",
       " 0.0773710972206433,\n",
       " 0.0760657595190004,\n",
       " 0.074471661777026,\n",
       " 0.0850013744787352,\n",
       " 0.0618964910793824,\n",
       " 0.014642,\n",
       " 0.014642,\n",
       " 0.0549162678701202,\n",
       " 0.0716693659837579,\n",
       " 0.0769246898292594,\n",
       " 0.0756524222273942,\n",
       " 0.0737291249788274,\n",
       " 0.0623907069757878,\n",
       " 0.0571438386063496,\n",
       " 0.0678518079836161,\n",
       " 0.0707047160604776]"
      ]
     },
     "execution_count": 18,
     "metadata": {},
     "output_type": "execute_result"
    }
   ],
   "source": [
    "gamma_m(T1)"
   ]
  },
  {
   "cell_type": "code",
   "execution_count": null,
   "id": "d24e2959",
   "metadata": {},
   "outputs": [],
   "source": []
  }
 ],
 "metadata": {
  "kernelspec": {
   "display_name": "Python 3 (ipykernel)",
   "language": "python",
   "name": "python3"
  },
  "language_info": {
   "codemirror_mode": {
    "name": "ipython",
    "version": 3
   },
   "file_extension": ".py",
   "mimetype": "text/x-python",
   "name": "python",
   "nbconvert_exporter": "python",
   "pygments_lexer": "ipython3",
   "version": "3.11.0"
  }
 },
 "nbformat": 4,
 "nbformat_minor": 5
}
